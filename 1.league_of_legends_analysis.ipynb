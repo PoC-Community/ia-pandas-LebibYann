{
 "cells": [
  {
   "cell_type": "markdown",
   "id": "384805b1",
   "metadata": {},
   "source": [
    "<img src=\"./image/data.png\"/>\n",
    "\n",
    "# Introduction #\n",
    "\n",
    "Welcome to this workshop, the objective of this workshop is to analyze data using pandas.\\\n",
    "For this we will use a dataset that represents competitive league of legends games in 2020.\n",
    "\n",
    "Data analysis is closely related to artificial intelligence.\\\n",
    "Indeed, when we want to set up an artificial intelligence model, we usually have raw data,\\\n",
    "to get good results it is important to work on these raw data, in order to obtain meaningful data.\n",
    "\n",
    "In this workshop:\n",
    "   - Data analysis.\n",
    "   - Data processing.\n",
    "   \n",
    "For this we will use the pandas library : [pandas](https://pandas.pydata.org/)"
   ]
  },
  {
   "cell_type": "markdown",
   "id": "688401cc",
   "metadata": {},
   "source": [
    "### Requirements\n",
    "\n",
    "Check that you have pandas installed, if not open your shell and run the command: `pip3 install pandas`\\\n",
    "Make sure you have the `matches2020.csv` file to start the workshop.\n",
    "\n",
    "In this workshop you will analyze a csv file.\\\n",
    "I strongly advise you not to use any loop (for, while ... ect)\\\n",
    "Indeed this workshop is made to be successful without the use of any loop,\\\n",
    "Read the documentation, search on the web, and come to the supervisors if you get stuck on a part for too long."
   ]
  },
  {
   "cell_type": "code",
   "execution_count": 1,
   "id": "f8b97516",
   "metadata": {},
   "outputs": [
    {
     "name": "stdout",
     "output_type": "stream",
     "text": [
      "1.league_of_legends_analysis.ipynb\tdatasets.zip  matches2020.csv\r\n",
      "2.video_games_data_visualisation.ipynb\timage\t      README.md\r\n"
     ]
    }
   ],
   "source": [
    "!ls"
   ]
  },
  {
   "cell_type": "markdown",
   "id": "602e0a6e",
   "metadata": {},
   "source": [
    "### Import\n",
    "\n",
    "To start, it is necessary to import `pandas`, we give it the alias `pd` to be able to use its methods more easily.\\\n",
    "If you don't know what a method is I advise you to start with the workshop : `python basics`"
   ]
  },
  {
   "cell_type": "code",
   "execution_count": 1,
   "id": "5496c943",
   "metadata": {},
   "outputs": [],
   "source": [
    "import pandas as pd"
   ]
  },
  {
   "cell_type": "markdown",
   "id": "8e7065a6",
   "metadata": {},
   "source": [
    "## Read & Verify\n",
    "\n",
    "Here we are at our first task, the difficulty will increase gradually.\n",
    "\n",
    "\n",
    "For now pandas needs to read the csv to be able to use it.\\\n",
    "You have to read the file : `matches2020.csv`\\\n",
    "Since it is the first task, here is the link of the function : [read_csv](https://pandas.pydata.org/pandas-docs/stable/reference/api/pandas.read_csv.html)\\\n",
    "For the next steps, I will let you search in the documentation: [documentation](https://pandas.pydata.org/docs/index.html)"
   ]
  },
  {
   "cell_type": "code",
   "execution_count": 7,
   "id": "28ec7b15",
   "metadata": {
    "scrolled": true
   },
   "outputs": [],
   "source": [
    "#read the file : matches2020.csv with the function read_csv\n",
    "data = pd.read_csv('./matches2020.csv')"
   ]
  },
  {
   "cell_type": "markdown",
   "id": "83ff96c8",
   "metadata": {},
   "source": [
    "Congratulations, you have successfully completed the first task,\n",
    "\n",
    "\n",
    "The second task is to display the dataframe using the [head](https://pandas.pydata.org/docs/reference/api/pandas.DataFrame.head.html) method.\\\n",
    "head will by default display the first 5 lines if you don't set any parameters."
   ]
  },
  {
   "cell_type": "code",
   "execution_count": 42,
   "id": "b8ec62b6",
   "metadata": {},
   "outputs": [
    {
     "name": "stdout",
     "output_type": "stream",
     "text": [
      "   Unnamed: 0                 gameid league        blueteam         redteam  \\\n",
      "0           0  ESPORTSTMNT03/1241318  KeSPA  SANDBOX Gaming              T1   \n",
      "1           1  ESPORTSTMNT03/1241322  KeSPA              T1  SANDBOX Gaming   \n",
      "2           2  ESPORTSTMNT03/1241324  KeSPA              T1  SANDBOX Gaming   \n",
      "3           3  ESPORTSTMNT03/1241328  KeSPA              T1  SANDBOX Gaming   \n",
      "4           4  ESPORTSTMNT03/1241386  KeSPA             DRX  Afreeca Freecs   \n",
      "\n",
      "       bluetop bluejungle      bluemid      blueadc bluesupport    redtop  \\\n",
      "0       Rumble      Elise       Qiyana  MissFortune    Nautilus    Aatrox   \n",
      "1        Jayce   JarvanIV      Orianna  MissFortune    Nautilus    Aatrox   \n",
      "2     Renekton     RekSai  Mordekaiser        Xayah       Rakan    Aatrox   \n",
      "3     Pantheon      Elise     Nautilus        Xayah       Rakan     Quinn   \n",
      "4  Mordekaiser   JarvanIV         Ryze        Xayah       Rakan  Renekton   \n",
      "\n",
      "  redjungle       redmid       redadc redsupport  result  \n",
      "0    Gragas  Mordekaiser        Xayah      Rakan       1  \n",
      "1     Elise       Qiyana        Varus  TahmKench       0  \n",
      "2   Sejuani         Azir  MissFortune   Nautilus       1  \n",
      "3      Olaf      Orianna  MissFortune      Leona       0  \n",
      "4     Elise       Velkoz        Varus      Braum       0  \n"
     ]
    }
   ],
   "source": [
    "print(data.head())"
   ]
  },
  {
   "cell_type": "markdown",
   "id": "b9ef744c",
   "metadata": {},
   "source": [
    "**Expected output:** \\\n",
    "<img src=\"./image/head_result.png\"/>"
   ]
  },
  {
   "cell_type": "markdown",
   "id": "e65be67e",
   "metadata": {},
   "source": [
    "### Dataset length\n",
    "\n",
    "We can observe that indeed our dataset contains information about competitive league of legends games in 2020.\\\n",
    "I will describe the different columns :\n",
    "- the **id** of the game,\n",
    "- the **league**, in league of legends the competition is divided in different regional leagues,\\\n",
    "especially the LFL which is the french league and the LEC which is the european league.\n",
    "- the **name** of the blue team,\n",
    "- the **name** of the red team,\n",
    "- in a game of league of legends there are 5 different roles, \\\n",
    "the **top**, the **mid**, the **jungle**, the **adc** and the **support**, to each role corresponds its champion pool.\n",
    "- the result, equal to 1 if the blue team wins otherwise equal to 0\n",
    "\n",
    "You have to return the total number of games of the dataset."
   ]
  },
  {
   "cell_type": "code",
   "execution_count": 58,
   "id": "0ee878fa",
   "metadata": {},
   "outputs": [],
   "source": [
    "#return the number of games\n",
    "\n",
    "def number_of_games(df):\n",
    "    return df.shape[0]"
   ]
  },
  {
   "cell_type": "code",
   "execution_count": 59,
   "id": "57f408f6",
   "metadata": {},
   "outputs": [
    {
     "data": {
      "text/plain": [
       "5612"
      ]
     },
     "execution_count": 59,
     "metadata": {},
     "output_type": "execute_result"
    }
   ],
   "source": [
    "number_of_games(data)"
   ]
  },
  {
   "cell_type": "markdown",
   "id": "4a03dea3",
   "metadata": {},
   "source": [
    "**Expected output :** `5612`\n"
   ]
  },
  {
   "cell_type": "markdown",
   "id": "2e252523",
   "metadata": {},
   "source": [
    "The LFL is the French league, teams like Vitality or LDLC play there. \\\n",
    "you will need to return the number of competitive games in the LFL in 2020.\n",
    "\n",
    "Try to create a variable that retrieves only the games where the League column is equal to `LFL`,\\\n",
    "then apply the same method as before."
   ]
  },
  {
   "cell_type": "code",
   "execution_count": 62,
   "id": "2599646b",
   "metadata": {},
   "outputs": [],
   "source": [
    "#return the number of games in LFL\n",
    "\n",
    "def number_of_games_lfl(df):\n",
    "    return df['league'].value_counts()['LFL']"
   ]
  },
  {
   "cell_type": "code",
   "execution_count": 63,
   "id": "5e044081",
   "metadata": {},
   "outputs": [
    {
     "data": {
      "text/plain": [
       "129"
      ]
     },
     "execution_count": 63,
     "metadata": {},
     "output_type": "execute_result"
    }
   ],
   "source": [
    "number_of_games_lfl(data)"
   ]
  },
  {
   "cell_type": "markdown",
   "id": "b15a2a3e",
   "metadata": {},
   "source": [
    "**Expected output :** `129`"
   ]
  },
  {
   "cell_type": "markdown",
   "id": "3eba9b27",
   "metadata": {},
   "source": [
    "### Winrate\n",
    "\n",
    "Bravo, you managed to get the parts of LFL and to count them\n",
    "\n",
    "Let's go to the next level, \\\n",
    "In league of legends, the map has a blue side and a red side,\\\n",
    "the goal of the red team is to destroy the base on the blue side while the blue team must destroy the base on the red side.\\\n",
    "There is a rumor that being on the blue side gives an advantage to the team, check this rumor.\n",
    "\n",
    "try to calculate the winrate of a team when it is on the `red` side.\\\n",
    "Don't forget that when the red team loses, the `result` is 1 and when it wins, the `result` is 0."
   ]
  },
  {
   "cell_type": "code",
   "execution_count": 82,
   "id": "3e1453f6",
   "metadata": {},
   "outputs": [],
   "source": [
    "#Calculate redsite winrate\n",
    "\n",
    "def redside_winrate(df):\n",
    "    return df[df['result'] == 0].shape[0] / number_of_games(df)"
   ]
  },
  {
   "cell_type": "code",
   "execution_count": 83,
   "id": "a8bd24ed",
   "metadata": {},
   "outputs": [
    {
     "data": {
      "text/plain": [
       "0.4718460441910192"
      ]
     },
     "execution_count": 83,
     "metadata": {},
     "output_type": "execute_result"
    }
   ],
   "source": [
    "redside_winrate(data)"
   ]
  },
  {
   "cell_type": "markdown",
   "id": "ed43f2af",
   "metadata": {},
   "source": [
    "**Expected output :** `0.4718460441910192`"
   ]
  },
  {
   "cell_type": "markdown",
   "id": "c331fd10",
   "metadata": {},
   "source": [
    "### List without duplicates\n",
    "\n",
    "Well done.\\\n",
    "But one question is on my mind.\\\n",
    "Which teams are in the French League of Legends (LFL)?\\\n",
    "List the LFL teams without duplicates"
   ]
  },
  {
   "cell_type": "code",
   "execution_count": 88,
   "id": "a9ff15bd",
   "metadata": {},
   "outputs": [],
   "source": [
    "#return the list of LFL teams without duplicates\n",
    "\n",
    "def list_equip_lfl(df):\n",
    "    return df[df['league'] == 'LFL']"
   ]
  },
  {
   "cell_type": "code",
   "execution_count": 89,
   "id": "58bdc608",
   "metadata": {},
   "outputs": [
    {
     "data": {
      "text/html": [
       "<div>\n",
       "<style scoped>\n",
       "    .dataframe tbody tr th:only-of-type {\n",
       "        vertical-align: middle;\n",
       "    }\n",
       "\n",
       "    .dataframe tbody tr th {\n",
       "        vertical-align: top;\n",
       "    }\n",
       "\n",
       "    .dataframe thead th {\n",
       "        text-align: right;\n",
       "    }\n",
       "</style>\n",
       "<table border=\"1\" class=\"dataframe\">\n",
       "  <thead>\n",
       "    <tr style=\"text-align: right;\">\n",
       "      <th></th>\n",
       "      <th>Unnamed: 0</th>\n",
       "      <th>gameid</th>\n",
       "      <th>league</th>\n",
       "      <th>blueteam</th>\n",
       "      <th>redteam</th>\n",
       "      <th>bluetop</th>\n",
       "      <th>bluejungle</th>\n",
       "      <th>bluemid</th>\n",
       "      <th>blueadc</th>\n",
       "      <th>bluesupport</th>\n",
       "      <th>redtop</th>\n",
       "      <th>redjungle</th>\n",
       "      <th>redmid</th>\n",
       "      <th>redadc</th>\n",
       "      <th>redsupport</th>\n",
       "      <th>result</th>\n",
       "    </tr>\n",
       "  </thead>\n",
       "  <tbody>\n",
       "    <tr>\n",
       "      <th>45</th>\n",
       "      <td>45</td>\n",
       "      <td>ESPORTSTMNT01/1270513</td>\n",
       "      <td>LFL</td>\n",
       "      <td>Misfits Premier</td>\n",
       "      <td>IZI Dream</td>\n",
       "      <td>Irelia</td>\n",
       "      <td>Qiyana</td>\n",
       "      <td>Rumble</td>\n",
       "      <td>MissFortune</td>\n",
       "      <td>Leona</td>\n",
       "      <td>Renekton</td>\n",
       "      <td>LeeSin</td>\n",
       "      <td>Cassiopeia</td>\n",
       "      <td>Varus</td>\n",
       "      <td>Nautilus</td>\n",
       "      <td>1</td>\n",
       "    </tr>\n",
       "    <tr>\n",
       "      <th>46</th>\n",
       "      <td>46</td>\n",
       "      <td>ESPORTSTMNT01/1270545</td>\n",
       "      <td>LFL</td>\n",
       "      <td>GameWard</td>\n",
       "      <td>Team MCES</td>\n",
       "      <td>Mordekaiser</td>\n",
       "      <td>Qiyana</td>\n",
       "      <td>Cassiopeia</td>\n",
       "      <td>Senna</td>\n",
       "      <td>TahmKench</td>\n",
       "      <td>Ornn</td>\n",
       "      <td>RekSai</td>\n",
       "      <td>Velkoz</td>\n",
       "      <td>MissFortune</td>\n",
       "      <td>Thresh</td>\n",
       "      <td>1</td>\n",
       "    </tr>\n",
       "    <tr>\n",
       "      <th>47</th>\n",
       "      <td>47</td>\n",
       "      <td>ESPORTSTMNT01/1270566</td>\n",
       "      <td>LFL</td>\n",
       "      <td>Solary</td>\n",
       "      <td>GamersOrigin</td>\n",
       "      <td>Malphite</td>\n",
       "      <td>Gragas</td>\n",
       "      <td>Azir</td>\n",
       "      <td>Senna</td>\n",
       "      <td>Braum</td>\n",
       "      <td>Vladimir</td>\n",
       "      <td>JarvanIV</td>\n",
       "      <td>Lucian</td>\n",
       "      <td>Aphelios</td>\n",
       "      <td>Nautilus</td>\n",
       "      <td>0</td>\n",
       "    </tr>\n",
       "    <tr>\n",
       "      <th>48</th>\n",
       "      <td>48</td>\n",
       "      <td>ESPORTSTMNT01/1270591</td>\n",
       "      <td>LFL</td>\n",
       "      <td>Vitality.Bee</td>\n",
       "      <td>LDLC OL</td>\n",
       "      <td>Rumble</td>\n",
       "      <td>JarvanIV</td>\n",
       "      <td>Cassiopeia</td>\n",
       "      <td>MissFortune</td>\n",
       "      <td>Rakan</td>\n",
       "      <td>Camille</td>\n",
       "      <td>RekSai</td>\n",
       "      <td>Zoe</td>\n",
       "      <td>Varus</td>\n",
       "      <td>Braum</td>\n",
       "      <td>1</td>\n",
       "    </tr>\n",
       "    <tr>\n",
       "      <th>49</th>\n",
       "      <td>49</td>\n",
       "      <td>ESPORTSTMNT01/1280723</td>\n",
       "      <td>LFL</td>\n",
       "      <td>Misfits Premier</td>\n",
       "      <td>GameWard</td>\n",
       "      <td>Kennen</td>\n",
       "      <td>RekSai</td>\n",
       "      <td>Rumble</td>\n",
       "      <td>Senna</td>\n",
       "      <td>TahmKench</td>\n",
       "      <td>Ornn</td>\n",
       "      <td>LeeSin</td>\n",
       "      <td>Sylas</td>\n",
       "      <td>MissFortune</td>\n",
       "      <td>Bard</td>\n",
       "      <td>0</td>\n",
       "    </tr>\n",
       "    <tr>\n",
       "      <th>...</th>\n",
       "      <td>...</td>\n",
       "      <td>...</td>\n",
       "      <td>...</td>\n",
       "      <td>...</td>\n",
       "      <td>...</td>\n",
       "      <td>...</td>\n",
       "      <td>...</td>\n",
       "      <td>...</td>\n",
       "      <td>...</td>\n",
       "      <td>...</td>\n",
       "      <td>...</td>\n",
       "      <td>...</td>\n",
       "      <td>...</td>\n",
       "      <td>...</td>\n",
       "      <td>...</td>\n",
       "      <td>...</td>\n",
       "    </tr>\n",
       "    <tr>\n",
       "      <th>5548</th>\n",
       "      <td>5548</td>\n",
       "      <td>ESPORTSTMNT03/1433232</td>\n",
       "      <td>LFL</td>\n",
       "      <td>GamersOrigin</td>\n",
       "      <td>Vitality.Bee</td>\n",
       "      <td>Maokai</td>\n",
       "      <td>Graves</td>\n",
       "      <td>Orianna</td>\n",
       "      <td>Ashe</td>\n",
       "      <td>Galio</td>\n",
       "      <td>Aatrox</td>\n",
       "      <td>Hecarim</td>\n",
       "      <td>Zilean</td>\n",
       "      <td>Ezreal</td>\n",
       "      <td>Nautilus</td>\n",
       "      <td>1</td>\n",
       "    </tr>\n",
       "    <tr>\n",
       "      <th>5553</th>\n",
       "      <td>5553</td>\n",
       "      <td>ESPORTSTMNT03/1433296</td>\n",
       "      <td>LFL</td>\n",
       "      <td>IZI Dream</td>\n",
       "      <td>LDLC OL</td>\n",
       "      <td>Renekton</td>\n",
       "      <td>RekSai</td>\n",
       "      <td>Zoe</td>\n",
       "      <td>Kalista</td>\n",
       "      <td>Leona</td>\n",
       "      <td>Poppy</td>\n",
       "      <td>Graves</td>\n",
       "      <td>Akali</td>\n",
       "      <td>Senna</td>\n",
       "      <td>Nautilus</td>\n",
       "      <td>1</td>\n",
       "    </tr>\n",
       "    <tr>\n",
       "      <th>5554</th>\n",
       "      <td>5554</td>\n",
       "      <td>ESPORTSTMNT03/1433304</td>\n",
       "      <td>LFL</td>\n",
       "      <td>GameWard</td>\n",
       "      <td>GamersOrigin</td>\n",
       "      <td>Renekton</td>\n",
       "      <td>Sett</td>\n",
       "      <td>Galio</td>\n",
       "      <td>Ezreal</td>\n",
       "      <td>Nautilus</td>\n",
       "      <td>Shen</td>\n",
       "      <td>LeeSin</td>\n",
       "      <td>Orianna</td>\n",
       "      <td>Kaisa</td>\n",
       "      <td>Thresh</td>\n",
       "      <td>1</td>\n",
       "    </tr>\n",
       "    <tr>\n",
       "      <th>5555</th>\n",
       "      <td>5555</td>\n",
       "      <td>ESPORTSTMNT03/1433314</td>\n",
       "      <td>LFL</td>\n",
       "      <td>Solary</td>\n",
       "      <td>Vitality.Bee</td>\n",
       "      <td>Poppy</td>\n",
       "      <td>Lillia</td>\n",
       "      <td>Cassiopeia</td>\n",
       "      <td>Senna</td>\n",
       "      <td>TahmKench</td>\n",
       "      <td>Sett</td>\n",
       "      <td>LeeSin</td>\n",
       "      <td>KogMaw</td>\n",
       "      <td>Jhin</td>\n",
       "      <td>Nautilus</td>\n",
       "      <td>1</td>\n",
       "    </tr>\n",
       "    <tr>\n",
       "      <th>5556</th>\n",
       "      <td>5556</td>\n",
       "      <td>ESPORTSTMNT03/1433317</td>\n",
       "      <td>LFL</td>\n",
       "      <td>Team MCES</td>\n",
       "      <td>Misfits Premier</td>\n",
       "      <td>Ornn</td>\n",
       "      <td>Lillia</td>\n",
       "      <td>Anivia</td>\n",
       "      <td>Lucian</td>\n",
       "      <td>Braum</td>\n",
       "      <td>Renekton</td>\n",
       "      <td>Nidalee</td>\n",
       "      <td>Akali</td>\n",
       "      <td>Ashe</td>\n",
       "      <td>Sett</td>\n",
       "      <td>0</td>\n",
       "    </tr>\n",
       "  </tbody>\n",
       "</table>\n",
       "<p>129 rows × 16 columns</p>\n",
       "</div>"
      ],
      "text/plain": [
       "      Unnamed: 0                 gameid league         blueteam  \\\n",
       "45            45  ESPORTSTMNT01/1270513    LFL  Misfits Premier   \n",
       "46            46  ESPORTSTMNT01/1270545    LFL         GameWard   \n",
       "47            47  ESPORTSTMNT01/1270566    LFL           Solary   \n",
       "48            48  ESPORTSTMNT01/1270591    LFL     Vitality.Bee   \n",
       "49            49  ESPORTSTMNT01/1280723    LFL  Misfits Premier   \n",
       "...          ...                    ...    ...              ...   \n",
       "5548        5548  ESPORTSTMNT03/1433232    LFL     GamersOrigin   \n",
       "5553        5553  ESPORTSTMNT03/1433296    LFL        IZI Dream   \n",
       "5554        5554  ESPORTSTMNT03/1433304    LFL         GameWard   \n",
       "5555        5555  ESPORTSTMNT03/1433314    LFL           Solary   \n",
       "5556        5556  ESPORTSTMNT03/1433317    LFL        Team MCES   \n",
       "\n",
       "              redteam      bluetop bluejungle     bluemid      blueadc  \\\n",
       "45          IZI Dream       Irelia     Qiyana      Rumble  MissFortune   \n",
       "46          Team MCES  Mordekaiser     Qiyana  Cassiopeia        Senna   \n",
       "47       GamersOrigin     Malphite     Gragas        Azir        Senna   \n",
       "48            LDLC OL       Rumble   JarvanIV  Cassiopeia  MissFortune   \n",
       "49           GameWard       Kennen     RekSai      Rumble        Senna   \n",
       "...               ...          ...        ...         ...          ...   \n",
       "5548     Vitality.Bee       Maokai     Graves     Orianna         Ashe   \n",
       "5553          LDLC OL     Renekton     RekSai         Zoe      Kalista   \n",
       "5554     GamersOrigin     Renekton       Sett       Galio       Ezreal   \n",
       "5555     Vitality.Bee        Poppy     Lillia  Cassiopeia        Senna   \n",
       "5556  Misfits Premier         Ornn     Lillia      Anivia       Lucian   \n",
       "\n",
       "     bluesupport    redtop redjungle      redmid       redadc redsupport  \\\n",
       "45         Leona  Renekton    LeeSin  Cassiopeia        Varus   Nautilus   \n",
       "46     TahmKench      Ornn    RekSai      Velkoz  MissFortune     Thresh   \n",
       "47         Braum  Vladimir  JarvanIV      Lucian     Aphelios   Nautilus   \n",
       "48         Rakan   Camille    RekSai         Zoe        Varus      Braum   \n",
       "49     TahmKench      Ornn    LeeSin       Sylas  MissFortune       Bard   \n",
       "...          ...       ...       ...         ...          ...        ...   \n",
       "5548       Galio    Aatrox   Hecarim      Zilean       Ezreal   Nautilus   \n",
       "5553       Leona     Poppy    Graves       Akali        Senna   Nautilus   \n",
       "5554    Nautilus      Shen    LeeSin     Orianna        Kaisa     Thresh   \n",
       "5555   TahmKench      Sett    LeeSin      KogMaw         Jhin   Nautilus   \n",
       "5556       Braum  Renekton   Nidalee       Akali         Ashe       Sett   \n",
       "\n",
       "      result  \n",
       "45         1  \n",
       "46         1  \n",
       "47         0  \n",
       "48         1  \n",
       "49         0  \n",
       "...      ...  \n",
       "5548       1  \n",
       "5553       1  \n",
       "5554       1  \n",
       "5555       1  \n",
       "5556       0  \n",
       "\n",
       "[129 rows x 16 columns]"
      ]
     },
     "execution_count": 89,
     "metadata": {},
     "output_type": "execute_result"
    }
   ],
   "source": [
    "list_equip_lfl(data)"
   ]
  },
  {
   "cell_type": "markdown",
   "id": "9903527a",
   "metadata": {},
   "source": [
    "**Expected output :** ```array(['Misfits Premier', 'GameWard', 'Solary', 'Vitality.Bee', 'GamersOrigin', 'LDLC OL', 'Team MCES', 'IZI Dream'], dtype=object)```"
   ]
  },
  {
   "cell_type": "markdown",
   "id": "451648c4",
   "metadata": {},
   "source": [
    "### Recurrent value\n",
    "\n",
    "Well done, it looks like there were 8 teams in the LFL in 2020.\n",
    "\n",
    "League of Legends is a game where the meta changes regularly,\\\n",
    "every year some champions dominate the game,\\\n",
    "The few games I played, I played the mid role.\\\n",
    "Which champion has been playing the most in mid. \\\n",
    "What is the value that appears the most in the columns: `bluemid` and `redmid` ?"
   ]
  },
  {
   "cell_type": "code",
   "execution_count": 90,
   "id": "322fcca9",
   "metadata": {},
   "outputs": [],
   "source": [
    "#return the name of the champion who is the most played in midlane\n",
    "\n",
    "def top_pick_mid(df):\n",
    "    mid_champions = pd.concat([df['bluemid'], df['redmid']])\n",
    "    return mid_champions.mode().iloc[0]"
   ]
  },
  {
   "cell_type": "code",
   "execution_count": 91,
   "id": "203583fb",
   "metadata": {},
   "outputs": [
    {
     "data": {
      "text/plain": [
       "'Zoe'"
      ]
     },
     "execution_count": 91,
     "metadata": {},
     "output_type": "execute_result"
    }
   ],
   "source": [
    "top_pick_mid(data)"
   ]
  },
  {
   "cell_type": "markdown",
   "id": "47c9f209",
   "metadata": {},
   "source": [
    "**Expected output :** `'Zoe'`"
   ]
  },
  {
   "cell_type": "markdown",
   "id": "1f4d103b",
   "metadata": {},
   "source": [
    "Ah Zoé,\\\n",
    "The famous bubbles that, when they touch you, make you wake up at your fountain.\n",
    "\n",
    "More seriously, Zoé seems to have been extremely played in the mid.\\\n",
    "But all roles taken together,which are the 5 champions who have been the most played.\n",
    "\n",
    "To do this look at the 5 roles of both teams to see which value appears the most : \\\n",
    "`bluetop`, `bluejungle`, `bluemid`, `blueadc`, `bluesupport`, `redtop`, `redjungle`, `redmid`, `redadc`, `redsupport`.\n",
    "\n",
    "Good luck!"
   ]
  },
  {
   "cell_type": "code",
   "execution_count": 92,
   "id": "86632693",
   "metadata": {},
   "outputs": [],
   "source": [
    "#return the five most played champions (top, mid, jungle, adc, support)\n",
    "\n",
    "def ranking_all_pick(df):\n",
    "    all_roles_champions = pd.concat([\n",
    "        df['bluetop'], df['bluejungle'], df['bluemid'], df['blueadc'], df['bluesupport'],\n",
    "        df['redtop'], df['redjungle'], df['redmid'], df['redadc'], df['redsupport']\n",
    "    ])\n",
    "    return all_roles_champions.value_counts().head()"
   ]
  },
  {
   "cell_type": "code",
   "execution_count": 93,
   "id": "66a21821",
   "metadata": {},
   "outputs": [
    {
     "data": {
      "text/plain": [
       "Aphelios    2147\n",
       "Nautilus    2084\n",
       "Sett        1816\n",
       "Thresh      1730\n",
       "Ornn        1700\n",
       "Name: count, dtype: int64"
      ]
     },
     "execution_count": 93,
     "metadata": {},
     "output_type": "execute_result"
    }
   ],
   "source": [
    "ranking_all_pick(data).head()"
   ]
  },
  {
   "cell_type": "markdown",
   "id": "897641ac",
   "metadata": {},
   "source": [
    "**Expected output :** \n",
    "\n",
    "`Aphelios    2147\n",
    " Nautilus    2084\n",
    " Sett        1816\n",
    " Thresh      1730\n",
    " Ornn        1700\n",
    " dtype: int64`"
   ]
  },
  {
   "cell_type": "markdown",
   "id": "7e723972",
   "metadata": {},
   "source": [
    "### Winrate in LEC\n",
    "\n",
    "Zoë is finally not even in the top 5 most played champions, maybe she was ban most of the time.\\\n",
    "Aphelios seems to have dominated the summoner's rift.\n",
    "\n",
    "The LEC is the European league one rank above the LFL, the dream of every European player. \\\n",
    "I wonder which team was able to dominate this league.\\\n",
    "List the different teams in the LEC league and their number of wins."
   ]
  },
  {
   "cell_type": "code",
   "execution_count": 94,
   "id": "19dda682",
   "metadata": {},
   "outputs": [],
   "source": [
    "#return the number of wins for each team in the LEC league\n",
    "\n",
    "def display_wins_per_teams(df):\n",
    "    lec_teams = df[df['league'] == 'LEC']\n",
    "    return lec_teams[lec_teams['result'] == 0]['name'].value_counts()"
   ]
  },
  {
   "cell_type": "code",
   "execution_count": 95,
   "id": "6ebe6022",
   "metadata": {},
   "outputs": [
    {
     "ename": "KeyError",
     "evalue": "'name'",
     "output_type": "error",
     "traceback": [
      "\u001b[0;31m---------------------------------------------------------------------------\u001b[0m",
      "\u001b[0;31mKeyError\u001b[0m                                  Traceback (most recent call last)",
      "File \u001b[0;32m~/.local/lib/python3.11/site-packages/pandas/core/indexes/base.py:3790\u001b[0m, in \u001b[0;36mIndex.get_loc\u001b[0;34m(self, key)\u001b[0m\n\u001b[1;32m   3789\u001b[0m \u001b[38;5;28;01mtry\u001b[39;00m:\n\u001b[0;32m-> 3790\u001b[0m     \u001b[38;5;28;01mreturn\u001b[39;00m \u001b[38;5;28;43mself\u001b[39;49m\u001b[38;5;241;43m.\u001b[39;49m\u001b[43m_engine\u001b[49m\u001b[38;5;241;43m.\u001b[39;49m\u001b[43mget_loc\u001b[49m\u001b[43m(\u001b[49m\u001b[43mcasted_key\u001b[49m\u001b[43m)\u001b[49m\n\u001b[1;32m   3791\u001b[0m \u001b[38;5;28;01mexcept\u001b[39;00m \u001b[38;5;167;01mKeyError\u001b[39;00m \u001b[38;5;28;01mas\u001b[39;00m err:\n",
      "File \u001b[0;32mindex.pyx:152\u001b[0m, in \u001b[0;36mpandas._libs.index.IndexEngine.get_loc\u001b[0;34m()\u001b[0m\n",
      "File \u001b[0;32mindex.pyx:181\u001b[0m, in \u001b[0;36mpandas._libs.index.IndexEngine.get_loc\u001b[0;34m()\u001b[0m\n",
      "File \u001b[0;32mpandas/_libs/hashtable_class_helper.pxi:7080\u001b[0m, in \u001b[0;36mpandas._libs.hashtable.PyObjectHashTable.get_item\u001b[0;34m()\u001b[0m\n",
      "File \u001b[0;32mpandas/_libs/hashtable_class_helper.pxi:7088\u001b[0m, in \u001b[0;36mpandas._libs.hashtable.PyObjectHashTable.get_item\u001b[0;34m()\u001b[0m\n",
      "\u001b[0;31mKeyError\u001b[0m: 'name'",
      "\nThe above exception was the direct cause of the following exception:\n",
      "\u001b[0;31mKeyError\u001b[0m                                  Traceback (most recent call last)",
      "Cell \u001b[0;32mIn [95], line 1\u001b[0m\n\u001b[0;32m----> 1\u001b[0m \u001b[43mdisplay_wins_per_teams\u001b[49m\u001b[43m(\u001b[49m\u001b[43mdata\u001b[49m\u001b[43m)\u001b[49m\n",
      "Cell \u001b[0;32mIn [94], line 5\u001b[0m, in \u001b[0;36mdisplay_wins_per_teams\u001b[0;34m(df)\u001b[0m\n\u001b[1;32m      3\u001b[0m \u001b[38;5;28;01mdef\u001b[39;00m \u001b[38;5;21mdisplay_wins_per_teams\u001b[39m(df):\n\u001b[1;32m      4\u001b[0m     lec_teams \u001b[38;5;241m=\u001b[39m df[df[\u001b[38;5;124m'\u001b[39m\u001b[38;5;124mleague\u001b[39m\u001b[38;5;124m'\u001b[39m] \u001b[38;5;241m==\u001b[39m \u001b[38;5;124m'\u001b[39m\u001b[38;5;124mLEC\u001b[39m\u001b[38;5;124m'\u001b[39m]\n\u001b[0;32m----> 5\u001b[0m     \u001b[38;5;28;01mreturn\u001b[39;00m \u001b[43mlec_teams\u001b[49m\u001b[43m[\u001b[49m\u001b[43mlec_teams\u001b[49m\u001b[43m[\u001b[49m\u001b[38;5;124;43m'\u001b[39;49m\u001b[38;5;124;43mresult\u001b[39;49m\u001b[38;5;124;43m'\u001b[39;49m\u001b[43m]\u001b[49m\u001b[43m \u001b[49m\u001b[38;5;241;43m==\u001b[39;49m\u001b[43m \u001b[49m\u001b[38;5;241;43m0\u001b[39;49m\u001b[43m]\u001b[49m\u001b[43m[\u001b[49m\u001b[38;5;124;43m'\u001b[39;49m\u001b[38;5;124;43mname\u001b[39;49m\u001b[38;5;124;43m'\u001b[39;49m\u001b[43m]\u001b[49m\u001b[38;5;241m.\u001b[39mvalue_counts()\n",
      "File \u001b[0;32m~/.local/lib/python3.11/site-packages/pandas/core/frame.py:3893\u001b[0m, in \u001b[0;36mDataFrame.__getitem__\u001b[0;34m(self, key)\u001b[0m\n\u001b[1;32m   3891\u001b[0m \u001b[38;5;28;01mif\u001b[39;00m \u001b[38;5;28mself\u001b[39m\u001b[38;5;241m.\u001b[39mcolumns\u001b[38;5;241m.\u001b[39mnlevels \u001b[38;5;241m>\u001b[39m \u001b[38;5;241m1\u001b[39m:\n\u001b[1;32m   3892\u001b[0m     \u001b[38;5;28;01mreturn\u001b[39;00m \u001b[38;5;28mself\u001b[39m\u001b[38;5;241m.\u001b[39m_getitem_multilevel(key)\n\u001b[0;32m-> 3893\u001b[0m indexer \u001b[38;5;241m=\u001b[39m \u001b[38;5;28;43mself\u001b[39;49m\u001b[38;5;241;43m.\u001b[39;49m\u001b[43mcolumns\u001b[49m\u001b[38;5;241;43m.\u001b[39;49m\u001b[43mget_loc\u001b[49m\u001b[43m(\u001b[49m\u001b[43mkey\u001b[49m\u001b[43m)\u001b[49m\n\u001b[1;32m   3894\u001b[0m \u001b[38;5;28;01mif\u001b[39;00m is_integer(indexer):\n\u001b[1;32m   3895\u001b[0m     indexer \u001b[38;5;241m=\u001b[39m [indexer]\n",
      "File \u001b[0;32m~/.local/lib/python3.11/site-packages/pandas/core/indexes/base.py:3797\u001b[0m, in \u001b[0;36mIndex.get_loc\u001b[0;34m(self, key)\u001b[0m\n\u001b[1;32m   3792\u001b[0m     \u001b[38;5;28;01mif\u001b[39;00m \u001b[38;5;28misinstance\u001b[39m(casted_key, \u001b[38;5;28mslice\u001b[39m) \u001b[38;5;129;01mor\u001b[39;00m (\n\u001b[1;32m   3793\u001b[0m         \u001b[38;5;28misinstance\u001b[39m(casted_key, abc\u001b[38;5;241m.\u001b[39mIterable)\n\u001b[1;32m   3794\u001b[0m         \u001b[38;5;129;01mand\u001b[39;00m \u001b[38;5;28many\u001b[39m(\u001b[38;5;28misinstance\u001b[39m(x, \u001b[38;5;28mslice\u001b[39m) \u001b[38;5;28;01mfor\u001b[39;00m x \u001b[38;5;129;01min\u001b[39;00m casted_key)\n\u001b[1;32m   3795\u001b[0m     ):\n\u001b[1;32m   3796\u001b[0m         \u001b[38;5;28;01mraise\u001b[39;00m InvalidIndexError(key)\n\u001b[0;32m-> 3797\u001b[0m     \u001b[38;5;28;01mraise\u001b[39;00m \u001b[38;5;167;01mKeyError\u001b[39;00m(key) \u001b[38;5;28;01mfrom\u001b[39;00m \u001b[38;5;21;01merr\u001b[39;00m\n\u001b[1;32m   3798\u001b[0m \u001b[38;5;28;01mexcept\u001b[39;00m \u001b[38;5;167;01mTypeError\u001b[39;00m:\n\u001b[1;32m   3799\u001b[0m     \u001b[38;5;66;03m# If we have a listlike key, _check_indexing_error will raise\u001b[39;00m\n\u001b[1;32m   3800\u001b[0m     \u001b[38;5;66;03m#  InvalidIndexError. Otherwise we fall through and re-raise\u001b[39;00m\n\u001b[1;32m   3801\u001b[0m     \u001b[38;5;66;03m#  the TypeError.\u001b[39;00m\n\u001b[1;32m   3802\u001b[0m     \u001b[38;5;28mself\u001b[39m\u001b[38;5;241m.\u001b[39m_check_indexing_error(key)\n",
      "\u001b[0;31mKeyError\u001b[0m: 'name'"
     ]
    }
   ],
   "source": [
    "display_wins_per_teams(data)"
   ]
  },
  {
   "cell_type": "markdown",
   "id": "abd0406e",
   "metadata": {},
   "source": [
    "**Expected output :**\n",
    "\n",
    "`G2 Esports               48\n",
    " Fnatic                   34\n",
    " MAD Lions                31\n",
    " Rogue                    31\n",
    " Origen                   24\n",
    " FC Schalke 04 Esports    18\n",
    " Misfits Gaming           18\n",
    " Excel Esports            15\n",
    " SK Gaming                13\n",
    " Team Vitality             9\n",
    " dtype: int64`"
   ]
  },
  {
   "cell_type": "markdown",
   "id": "107140ef",
   "metadata": {},
   "source": [
    "### Counter\n",
    "\n",
    "What a team: G2!\n",
    "\n",
    "Aphelios was the most played champion in competition in 2020,\\\n",
    "in my research I noticed that Ezreal was the champion who was the most pick against Aphelios.\\\n",
    "Was this a good decision ?\n",
    "\n",
    "Calculate the winrate of Aphelios against Ezreal,\\\n",
    "Aphelios and Ezreal are champions that are usually played in the role of adc. \\\n",
    "Just use the `blueadc` and `redadc` columns and ```result``` for this exercise."
   ]
  },
  {
   "cell_type": "code",
   "execution_count": 96,
   "id": "0cca2db3",
   "metadata": {},
   "outputs": [],
   "source": [
    "def aphelios_vs_ezreal(df):\n",
    "    aphelios_ezreal_df = df[((df['blueadc'] == 'Aphelios') & (df['redadc'] == 'Ezreal')) | ((df['blueadc'] == 'Ezreal') & (df['redadc'] == 'Aphelios'))]\n",
    "    return aphelios_ezreal_df[aphelios_ezreal_df['result'] == 0].shape[0] / aphelios_ezreal_df.shape[0]"
   ]
  },
  {
   "cell_type": "code",
   "execution_count": 97,
   "id": "4a2c2086",
   "metadata": {},
   "outputs": [
    {
     "data": {
      "text/plain": [
       "0.47195357833655704"
      ]
     },
     "execution_count": 97,
     "metadata": {},
     "output_type": "execute_result"
    }
   ],
   "source": [
    "aphelios_vs_ezreal(data)"
   ]
  },
  {
   "cell_type": "markdown",
   "id": "856bcff6",
   "metadata": {},
   "source": [
    "**Expected output :** `0.528046421663443`"
   ]
  },
  {
   "cell_type": "markdown",
   "id": "7d57eea4",
   "metadata": {},
   "source": [
    "You have answered all my questions, well done.\\\n",
    "Now you are free to do your analysis.\n",
    "\n",
    "Why don't you try to see with which support Aphelios has the best winrate for example?"
   ]
  },
  {
   "cell_type": "code",
   "execution_count": null,
   "id": "f22450a5",
   "metadata": {},
   "outputs": [],
   "source": [
    "def name_this_function(df):\n",
    "    \"\"\"\n",
    "        You are free, process the data to try to get out indicators that can be interesting\n",
    "    \"\"\"\n",
    "    return None"
   ]
  },
  {
   "cell_type": "markdown",
   "id": "0ec43f54",
   "metadata": {},
   "source": [
    "## Well played\n",
    "\n",
    "You were able to see the basic operation of pandas.\\\n",
    "You now understand one of the basics of data science.\n",
    "\n",
    "Fortunately I thought about the brave people who would arrive there, a second topic is waiting for you on a dataset detailing the sale of video games in the world.\n",
    "\n",
    "<img src=\"./image/win.png\"/>"
   ]
  }
 ],
 "metadata": {
  "kernelspec": {
   "display_name": "Python 3 (ipykernel)",
   "language": "python",
   "name": "python3"
  },
  "language_info": {
   "codemirror_mode": {
    "name": "ipython",
    "version": 3
   },
   "file_extension": ".py",
   "mimetype": "text/x-python",
   "name": "python",
   "nbconvert_exporter": "python",
   "pygments_lexer": "ipython3",
   "version": "3.11.2"
  }
 },
 "nbformat": 4,
 "nbformat_minor": 5
}
